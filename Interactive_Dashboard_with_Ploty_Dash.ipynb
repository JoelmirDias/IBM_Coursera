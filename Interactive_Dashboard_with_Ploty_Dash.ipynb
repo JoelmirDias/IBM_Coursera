{
  "nbformat": 4,
  "nbformat_minor": 0,
  "metadata": {
    "colab": {
      "name": "Interactive_Dashboard_with_Ploty_Dash.ipynb",
      "provenance": [],
      "collapsed_sections": [],
      "authorship_tag": "ABX9TyO6Dq5Mmd+OGKwZiyeahczl",
      "include_colab_link": true
    },
    "kernelspec": {
      "name": "python3",
      "display_name": "Python 3"
    },
    "language_info": {
      "name": "python"
    }
  },
  "cells": [
    {
      "cell_type": "markdown",
      "metadata": {
        "id": "view-in-github",
        "colab_type": "text"
      },
      "source": [
        "<a href=\"https://colab.research.google.com/github/JoelmirDias/IBM_Coursera/blob/main/Interactive_Dashboard_with_Ploty_Dash.ipynb\" target=\"_parent\"><img src=\"https://colab.research.google.com/assets/colab-badge.svg\" alt=\"Open In Colab\"/></a>"
      ]
    },
    {
      "cell_type": "code",
      "source": [
        "%%sh\n",
        "pip install -q dash\n",
        "pip install -q dash_core_components\n",
        "pip install -q dash_html_components\n",
        "pip install -q dash_table\n",
        "\n"
      ],
      "metadata": {
        "id": "wIAICVVk345d"
      },
      "execution_count": null,
      "outputs": []
    },
    {
      "cell_type": "code",
      "source": [
        "%%sh\n",
        "# get ngrok\n",
        "curl -O https://bin.equinox.io/c/4VmDzA7iaHb/ngrok-stable-linux-amd64.zip\n",
        "unzip ngrok-stable-linux-amd64.zip"
      ],
      "metadata": {
        "colab": {
          "base_uri": "https://localhost:8080/"
        },
        "id": "zXJnnjvM4CWa",
        "outputId": "ab09d4a6-00ca-44ab-d2bc-1c6b7c0130da"
      },
      "execution_count": null,
      "outputs": [
        {
          "output_type": "stream",
          "name": "stdout",
          "text": [
            "Archive:  ngrok-stable-linux-amd64.zip\n",
            "  inflating: ngrok                   \n"
          ]
        },
        {
          "output_type": "stream",
          "name": "stderr",
          "text": [
            "  % Total    % Received % Xferd  Average Speed   Time    Time     Time  Current\n",
            "                                 Dload  Upload   Total   Spent    Left  Speed\n",
            "\r  0     0    0     0    0     0      0      0 --:--:-- --:--:-- --:--:--     0\r  4 13.1M    4  553k    0     0   908k      0  0:00:14 --:--:--  0:00:14  906k\r 72 13.1M   72 9849k    0     0  6159k      0  0:00:02  0:00:01  0:00:01 6159k\r100 13.1M  100 13.1M    0     0  7876k      0  0:00:01  0:00:01 --:--:-- 7871k\n"
          ]
        }
      ]
    },
    {
      "cell_type": "code",
      "source": [
        "import dash\n",
        "import dash_core_components as dcc\n",
        "import dash_html_components as html\n",
        "\n",
        "external_stylesheets = ['https://codepen.io/chriddyp/pen/bWLwgP.css']\n",
        "\n",
        "app = dash.Dash(__name__)#, external_stylesheets=external_stylesheets)"
      ],
      "metadata": {
        "colab": {
          "base_uri": "https://localhost:8080/"
        },
        "id": "BBDQ-kM14FQd",
        "outputId": "28643848-70eb-4f53-a3ef-cd362298bd2f"
      },
      "execution_count": null,
      "outputs": [
        {
          "output_type": "stream",
          "name": "stderr",
          "text": [
            "/usr/local/lib/python3.7/dist-packages/ipykernel_launcher.py:2: UserWarning: \n",
            "The dash_core_components package is deprecated. Please replace\n",
            "`import dash_core_components as dcc` with `from dash import dcc`\n",
            "  \n",
            "/usr/local/lib/python3.7/dist-packages/ipykernel_launcher.py:3: UserWarning: \n",
            "The dash_html_components package is deprecated. Please replace\n",
            "`import dash_html_components as html` with `from dash import html`\n",
            "  This is separate from the ipykernel package so we can avoid doing imports until\n"
          ]
        }
      ]
    },
    {
      "cell_type": "code",
      "execution_count": null,
      "metadata": {
        "id": "a5ZiZwyO1kVD"
      },
      "outputs": [],
      "source": [
        "# Import required libraries\n",
        "import pandas as pd\n",
        "import dash\n",
        "import dash_html_components as html\n",
        "import dash_core_components as dcc\n",
        "from dash.dependencies import Input, Output\n",
        "import plotly.express as px\n",
        "\n",
        "# Read the airline data into pandas dataframe\n",
        "spacex_df = pd.read_csv(\"spacex_launch_dash.csv\")\n",
        "max_payload = spacex_df['Payload Mass (kg)'].max()\n",
        "min_payload = spacex_df['Payload Mass (kg)'].min()\n",
        "\n",
        "# Create a dash application\n",
        "app = dash.Dash(__name__)\n",
        "\n",
        "# Create an app layout\n",
        "app.layout = html.Div(children=[html.H1('SpaceX Launch Records Dashboard',style={'textAlign': 'center', 'color': '#503D36','font-size': 40}),\n",
        "                                # TASK 1: Add a dropdown list to enable Launch Site selection\n",
        "                                # The default select value is for ALL sites\n",
        "                                html.Div(dcc.Dropdown(id='site-dropdown',\n",
        "                                              options=[{'label': 'All Sites', 'value': 'ALL'},\n",
        "                                                    {'label': 'CCAFS LC-40', 'value':'CCAFS LC-40'},\n",
        "                                                    {'label':'CCAFS SLC-40', 'value':'CCAFS SLC-40'},\n",
        "                                                    {'label':'KSC LC-39A','value':'KSC LC-39A'},\n",
        "                                                    {'label':'VAFB SLC-4E','value':'VAFB SLC-4E'}],\n",
        "                                              value='ALL',\n",
        "                                              placeholder=\"Select a Launch Site here\",\n",
        "                                              searchable=True)),\n",
        "                                html.Br(),\n",
        "\n",
        "                                # TASK 2: Add a pie chart to show the total successful launches count for all sites\n",
        "                                # If a specific launch site was selected, show the Success vs. Failed counts for the site\n",
        "                                html.Div(dcc.Graph(id='success-pie-chart')),\n",
        "                                html.Br(),\n",
        "\n",
        "                                html.P(\"Payload range (Kg):\"),\n",
        "                                # TASK 3: Add a slider to select payload range\n",
        "                                dcc.RangeSlider(id='payload-slider',\n",
        "                                                min=0, max=10000, step=1000,\n",
        "                                                marks={0: '0',\n",
        "                                                       100: '100'},\n",
        "                                                value=[min_payload, max_payload]),\n",
        "\n",
        "                                # TASK 4: Add a scatter chart to show the correlation between payload and launch success\n",
        "                                html.Div(dcc.Graph(id='success-payload-scatter-chart')),\n",
        "                                ])\n",
        "\n",
        "# TASK 2:\n",
        "# Add a callback function for `site-dropdown` as input, `success-pie-chart` as output\n",
        "@app.callback(Output(component_id='success-pie-chart', component_property='figure'),\n",
        "              Input(component_id='site-dropdown', component_property='value'))\n",
        "def get_pie_chart(entered_site):\n",
        "    data=spacex_df[['Launch Site','class']]\n",
        "    filtered_df = data[spacex_df['Launch Site']==entered_site].groupby('class',axis=0).count()\n",
        "    filtered_df['Result']=['Success','Failure']\n",
        "    if entered_site == 'ALL':\n",
        "        fig = px.pie(data, values='class', \n",
        "        names='Launch Site', \n",
        "        title='Success Chart')\n",
        "        return fig\n",
        "    else:\n",
        "        fig = px.pie(filtered_df, values='Launch Site', \n",
        "        names='Result', \n",
        "        title='Success Tax')\n",
        "        return fig\n",
        "        # return the outcomes piechart for a selected site\n",
        "# TASK 4:\n",
        "# Add a callback function for `site-dropdown` and `payload-slider` as inputs, `success-payload-scatter-chart` as output\n",
        "# Function decorator to specify function input and output \n",
        "@app.callback(Output(component_id='success-payload-scatter-chart', component_property='figure'),\n",
        "              Input(component_id='site-dropdown', component_property='value'),\n",
        "              Input(component_id='payload-slider', component_property='value')) \n",
        "def get_scatter_chart(entered_site,entered_payload):\n",
        "    data=spacex_df[['Launch Site','Payload Mass (kg)','Booster Version Category','class']]\n",
        "    filtered_df = data[data['Launch Site']==entered_site]\n",
        "    if entered_site == 'ALL': \n",
        "        fig = px.scatter(data, x='Payload Mass (kg)',y='class',\n",
        "        color='Booster Version Category', \n",
        "        title='Success') \n",
        "        return fig \n",
        "    else:\n",
        "        fig = px.scatter(filtered_df, x='Payload Mass (kg)',y='class', \n",
        "        color='Booster Version Category', \n",
        "        title='Success') \n",
        "        return fig \n",
        "\n",
        "      # return the outcomes piechart for a selected site\n",
        "\n",
        "# Run the app\n",
        "if __name__ == '__main__':\n",
        "    app.run_server()\n",
        "\n",
        "# launch ngrok\n",
        "get_ipython().system_raw('./ngrok http 8050 &')\n"
      ]
    },
    {
      "cell_type": "code",
      "source": [
        "%%sh\n",
        "# get url with ngrok\n",
        "curl -s http://localhost:4040/api/tunnels | python3 -c \"import sys, json; print(json.load(sys.stdin)['tunnels'][0]['public_url'])\""
      ],
      "metadata": {
        "id": "hfEGrqQ83m7h"
      },
      "execution_count": null,
      "outputs": []
    },
    {
      "cell_type": "code",
      "source": [
        "!python dash_app.py"
      ],
      "metadata": {
        "id": "5yJf5r5M3rCz"
      },
      "execution_count": null,
      "outputs": []
    }
  ]
}